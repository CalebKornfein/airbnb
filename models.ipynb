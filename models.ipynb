{
 "cells": [
  {
   "cell_type": "code",
   "execution_count": 47,
   "metadata": {},
   "outputs": [],
   "source": [
    "import numpy as np\n",
    "import pandas as pd\n",
    "from sklearn.model_selection import GridSearchCV \n",
    "from sklearn.model_selection import train_test_split\n",
    "from sklearn.ensemble import RandomForestClassifier\n",
    "from sklearn.linear_model import LogisticRegression\n",
    "import xgboost as xgb\n",
    "from xgboost import XGBClassifier\n",
    "from sklearn.metrics import accuracy_score\n",
    "from xgboost import cv\n",
    "import time"
   ]
  },
  {
   "cell_type": "code",
   "execution_count": 48,
   "metadata": {},
   "outputs": [],
   "source": [
    "train = np.array(pd.read_csv('data/train.csv'))\n",
    "train_labels = pd.read_csv('data/train_labels.csv')\n",
    "train_id = train_labels['id']\n",
    "train_decision = np.array(train_labels['Decision'])\n",
    "\n",
    "test = np.array(pd.read_csv('data/test.csv'))\n",
    "test_labels = pd.read_csv('data/test_labels.csv')\n",
    "\n",
    "X_train, X_test, y_train, y_test = train_test_split(\n",
    "    train, train_decision, test_size=0.2, random_state=0)"
   ]
  },
  {
   "cell_type": "code",
   "execution_count": 49,
   "metadata": {},
   "outputs": [
    {
     "data": {
      "text/plain": [
       "(7471, 34)"
      ]
     },
     "execution_count": 49,
     "metadata": {},
     "output_type": "execute_result"
    }
   ],
   "source": [
    "train.shape"
   ]
  },
  {
   "cell_type": "code",
   "execution_count": 50,
   "metadata": {},
   "outputs": [],
   "source": [
    "# APPROACH 1: RANDOM FOREST"
   ]
  },
  {
   "cell_type": "code",
   "execution_count": 51,
   "metadata": {},
   "outputs": [],
   "source": [
    "# NOTE, I would optimize 3-4 hyper-paramaters at a time with testing\n",
    "# Multiple values per hyper-parameter, however I did not do all at a time\n",
    "# To avoid blowing up the search time"
   ]
  },
  {
   "cell_type": "code",
   "execution_count": 52,
   "metadata": {},
   "outputs": [],
   "source": [
    "param_grid = {\n",
    "    'bootstrap': [False],\n",
    "    'max_depth': [10],\n",
    "    'criterion': ['gini'],\n",
    "    'max_features': ['auto'],\n",
    "    'n_estimators': [40],\n",
    "    'min_samples_split': [2],\n",
    "    'min_samples_leaf': [1]\n",
    "}\n",
    "\n",
    "score = 'accuracy'"
   ]
  },
  {
   "cell_type": "code",
   "execution_count": 34,
   "metadata": {},
   "outputs": [
    {
     "data": {
      "text/plain": [
       "GridSearchCV(cv=5, estimator=RandomForestClassifier(random_state=0), n_jobs=10,\n",
       "             param_grid={'bootstrap': [False], 'criterion': ['gini'],\n",
       "                         'max_depth': [10], 'max_features': ['auto'],\n",
       "                         'min_samples_leaf': [1], 'min_samples_split': [2],\n",
       "                         'n_estimators': [40]},\n",
       "             scoring='accuracy')"
      ]
     },
     "execution_count": 34,
     "metadata": {},
     "output_type": "execute_result"
    }
   ],
   "source": [
    "rf = RandomForestClassifier(random_state=0)\n",
    "clf = GridSearchCV(rf, param_grid, cv=5, n_jobs=10, scoring=score) \n",
    "clf.fit(X=train, y=train_decision)"
   ]
  },
  {
   "cell_type": "code",
   "execution_count": 53,
   "metadata": {},
   "outputs": [
    {
     "name": "stdout",
     "output_type": "stream",
     "text": [
      "Params: {'bootstrap': False, 'criterion': 'gini', 'max_depth': 10, 'max_features': 'auto', 'min_samples_leaf': 1, 'min_samples_split': 2, 'n_estimators': 40}\n",
      "Test: 0.8107023411371237\n",
      "Random Forest took 0.546334981918335 seconds to train\n"
     ]
    }
   ],
   "source": [
    "print(f'Params: {clf.best_params_}')\n",
    "print(f'Test: {clf.score(X_test, y_test)}')\n",
    "\n",
    "start = time.time()\n",
    "lr = RandomForestClassifier(random_state=0,\n",
    "                           max_depth=10,\n",
    "                           max_features='auto',\n",
    "                           n_estimators=60).fit(X=train, y=train_decision)\n",
    "end = time.time()\n",
    "print(f'Random Forest took {end - start} seconds to train')\n",
    "\n",
    "test_submission = test_labels.copy()\n",
    "test_submission['Decision'] = lr.predict(test)\n",
    "test_submission.to_csv('submissions/rf_submission.csv', index=False)"
   ]
  },
  {
   "cell_type": "code",
   "execution_count": null,
   "metadata": {},
   "outputs": [],
   "source": [
    "# APPROACH 2: LOGISTIC REGRESSION"
   ]
  },
  {
   "cell_type": "code",
   "execution_count": 54,
   "metadata": {},
   "outputs": [
    {
     "name": "stdout",
     "output_type": "stream",
     "text": [
      "Params: {'C': 4.281332398719396, 'fit_intercept': True, 'penalty': 'l2', 'solver': 'liblinear'}\n",
      "Test: 0.6937491773112516\n",
      "Logistic Regression took 0.1419990062713623 seconds to train\n"
     ]
    }
   ],
   "source": [
    "param_grid = {'penalty' : ['l2'],\n",
    "              'C' : np.logspace(-4, 4, 20),\n",
    "              'solver' : ['liblinear'],\n",
    "             'fit_intercept': [True]}\n",
    "\n",
    "lr = GridSearchCV(LogisticRegression(random_state=0), param_grid=param_grid, scoring='accuracy', cv=5, n_jobs=2)\n",
    "lr.fit(X=train, y=train_decision)\n",
    "\n",
    "print(f'Params: {lr.best_params_}')\n",
    "print(f'Test: {lr.best_score_}')\n",
    "\n",
    "start = time.time()\n",
    "lr = LogisticRegression(random_state=0,\n",
    "                       C = 4.28133,\n",
    "                       fit_intercept = True).fit(X=train, y=train_decision)\n",
    "end = time.time()\n",
    "print(f'Logistic Regression took {end - start} seconds to train')\n",
    "\n",
    "test_submission = test_labels.copy()\n",
    "test_submission['Decision'] = lr.predict(test)\n",
    "test_submission.to_csv('submissions/lr_submission.csv', index=False)"
   ]
  },
  {
   "cell_type": "code",
   "execution_count": null,
   "metadata": {},
   "outputs": [],
   "source": [
    "# APPROACH 3: XGBOOST"
   ]
  },
  {
   "cell_type": "code",
   "execution_count": null,
   "metadata": {},
   "outputs": [],
   "source": [
    "# NOTE, I would optimize 3-4 hyper-paramaters at a time with testing\n",
    "# Multiple values per hyper-parameter, however I did not do all at a time\n",
    "# To avoid blowing up the search time"
   ]
  },
  {
   "cell_type": "code",
   "execution_count": 3,
   "metadata": {},
   "outputs": [
    {
     "name": "stdout",
     "output_type": "stream",
     "text": [
      "Fitting 5 folds for each of 2 candidates, totalling 10 fits\n"
     ]
    },
    {
     "name": "stderr",
     "output_type": "stream",
     "text": [
      "[Parallel(n_jobs=10)]: Using backend LokyBackend with 10 concurrent workers.\n",
      "[Parallel(n_jobs=10)]: Done   2 out of  10 | elapsed:   28.5s remaining:  1.9min\n",
      "[Parallel(n_jobs=10)]: Done  10 out of  10 | elapsed:   40.5s finished\n",
      "/Users/calebkornfein/opt/anaconda3/envs/S2L/lib/python3.8/site-packages/xgboost/sklearn.py:1224: UserWarning: The use of label encoder in XGBClassifier is deprecated and will be removed in a future release. To remove this warning, do the following: 1) Pass option use_label_encoder=False when constructing XGBClassifier object; and 2) Encode your labels (y) as integers starting with 0, i.e. 0, 1, 2, ..., [num_class - 1].\n",
      "  warnings.warn(label_encoder_deprecation_msg, UserWarning)\n"
     ]
    },
    {
     "name": "stdout",
     "output_type": "stream",
     "text": [
      "[00:20:06] WARNING: /Users/runner/work/xgboost/xgboost/src/learner.cc:576: \n",
      "Parameters: { \"early_stopping_rounds\" } might not be used.\n",
      "\n",
      "  This could be a false alarm, with some parameters getting used by language bindings but\n",
      "  then being mistakenly passed down to XGBoost core, or some parameter actually being used\n",
      "  but getting flagged wrongly here. Please open an issue if you find any such cases.\n",
      "\n",
      "\n",
      "Finished\n"
     ]
    }
   ],
   "source": [
    "data = xgb.DMatrix(data=train,label=train_decision)\n",
    "\n",
    "xgb_clf = XGBClassifier(\n",
    "    nthread=10,\n",
    "    seed=7\n",
    ")\n",
    "\n",
    "params = {\n",
    "    'objective': ['binary:logistic'],\n",
    "    'max_depth': [2,4,6,10],\n",
    "    'gamma': [0,1,2],\n",
    "    'learning_rate': [0.01,0.03,0.05,0.10, 0.12,0.15],\n",
    "    'subsample': [0.6,0.8,0.10],\n",
    "    'colsample_bylevel': [1],\n",
    "    'eval_metric' : ['error'],\n",
    "    'early_stopping_rounds': [10, 30],\n",
    "    'n_estimators': [35, 60, 100, 150]\n",
    "}\n",
    "\n",
    "\n",
    "grid_search = GridSearchCV(estimator=xgb_clf, param_grid=params, scoring = 'accuracy', \n",
    "                           n_jobs = 10, cv = 5, verbose=True\n",
    ")\n",
    "\n",
    "grid_search.fit(train, train_decision)\n",
    "print(\"Finished\")"
   ]
  },
  {
   "cell_type": "code",
   "execution_count": 57,
   "metadata": {},
   "outputs": [
    {
     "name": "stdout",
     "output_type": "stream",
     "text": [
      "Params: {'colsample_bylevel': 1, 'early_stopping_rounds': 30, 'eval_metric': 'error', 'gamma': 1, 'learning_rate': 0.1, 'max_depth': 10, 'n_estimators': 250, 'objective': 'binary:logistic', 'subsample': 0.8}\n",
      "Test: 0.7978837087480356\n",
      "[00:55:04] WARNING: /Users/runner/work/xgboost/xgboost/src/learner.cc:576: \n",
      "Parameters: { \"early_stop_rounds\" } might not be used.\n",
      "\n",
      "  This could be a false alarm, with some parameters getting used by language bindings but\n",
      "  then being mistakenly passed down to XGBoost core, or some parameter actually being used\n",
      "  but getting flagged wrongly here. Please open an issue if you find any such cases.\n",
      "\n",
      "\n",
      "[00:55:04] WARNING: /Users/runner/work/xgboost/xgboost/src/learner.cc:1115: Starting in XGBoost 1.3.0, the default evaluation metric used with the objective 'binary:logistic' was changed from 'error' to 'logloss'. Explicitly set eval_metric if you'd like to restore the old behavior.\n",
      "XGBoost took 0.6348779201507568 seconds to train\n"
     ]
    }
   ],
   "source": [
    "print(f'Params: {grid_search.best_params_}')\n",
    "print(f'Test: {grid_search.best_score_}')\n",
    "\n",
    "start = time.time()\n",
    "xgb_model = XGBClassifier(\n",
    "    nthread=10,\n",
    "    seed=0,\n",
    "    n_estimators=35, learning_rate=0.12, max_depth=6, gamma = 1, early_stop_rounds = 30, subsample = 0.8, random_state=0\n",
    ").fit(train, train_decision)\n",
    "end = time.time()\n",
    "print(f'XGBoost took {end - start} seconds to train')\n",
    "\n",
    "test_submission = test_labels.copy()\n",
    "test_submission['Decision'] = grid_search.best_estimator_.predict(test)\n",
    "test_submission['Decision'] = xgb_model.predict(test)\n",
    "test_submission.to_csv('submissions/xgb_submission.csv', index=False)"
   ]
  },
  {
   "cell_type": "code",
   "execution_count": 39,
   "metadata": {},
   "outputs": [
    {
     "name": "stdout",
     "output_type": "stream",
     "text": [
      "0.00012803077697753906\n"
     ]
    }
   ],
   "source": []
  },
  {
   "cell_type": "code",
   "execution_count": null,
   "metadata": {},
   "outputs": [],
   "source": []
  }
 ],
 "metadata": {
  "kernelspec": {
   "display_name": "S2L",
   "language": "python",
   "name": "s2l"
  },
  "language_info": {
   "codemirror_mode": {
    "name": "ipython",
    "version": 3
   },
   "file_extension": ".py",
   "mimetype": "text/x-python",
   "name": "python",
   "nbconvert_exporter": "python",
   "pygments_lexer": "ipython3",
   "version": "3.8.6"
  }
 },
 "nbformat": 4,
 "nbformat_minor": 4
}
