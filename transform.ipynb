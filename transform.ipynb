{
 "cells": [
  {
   "cell_type": "code",
   "execution_count": 175,
   "metadata": {},
   "outputs": [],
   "source": [
    "import numpy as np\n",
    "import pandas as pd\n",
    "from sklearn.pipeline import Pipeline\n",
    "from sklearn.preprocessing import OneHotEncoder, StandardScaler\n",
    "from sklearn.compose import ColumnTransformer\n",
    "from sklearn.base import TransformerMixin\n",
    "from sklearn.impute import KNNImputer, SimpleImputer\n",
    "from sklearn.impute import MissingIndicator"
   ]
  },
  {
   "cell_type": "code",
   "execution_count": 176,
   "metadata": {},
   "outputs": [],
   "source": [
    "train = pd.read_csv('data/initial_data/train.csv')\n",
    "test = pd.read_csv('data/initial_data/test.csv')"
   ]
  },
  {
   "cell_type": "code",
   "execution_count": 177,
   "metadata": {},
   "outputs": [],
   "source": [
    "def process_train(df, drop):\n",
    "    df['Price'] = df.apply(lambda x: int((x['Price'][1:]).split(\".\")[0].replace(\",\", \"\")), axis=1)\n",
    "    df['Price_per_slot'] = df.apply(lambda x: x['Price'] / x['Accommodates'], axis=1)\n",
    "    df['Large'] = df.apply(lambda x: 1 if x['Accommodates'] >= 8 else 0, axis=1)\n",
    "    df['Missing'] = [int(sum(x) > 0) for x in MissingIndicator().fit_transform(df)]\n",
    "    df['Host_is_superhost'] = df.apply(lambda x: 1 if x['Host_is_superhost'] == 'f' else \n",
    "                                       (0 if x['Host_is_superhost'] == 't' else x['Host_is_superhost']), axis=1)\n",
    "    df['Host_identity_verified'] = df.apply(lambda x: 1 if x['Host_identity_verified'] == 'f' else \n",
    "                                       (0 if x['Host_identity_verified'] == 't' else x['Host_identity_verified']), axis=1)\n",
    "    df['Host_is_superhost'] = df.apply(lambda x: 1 if x['Instant_bookable'] == 'f' else \n",
    "                                       (0 if x['Instant_bookable'] == 't' else x['Instant_bookable']), axis=1)\n",
    "    df['Neighbourhood'] = df.apply(lambda x: str(x['Neighbourhood']), axis=1)\n",
    "    print(df.shape)\n",
    "    labels = df[['id','Decision']]\n",
    "    X = df.drop(columns = ['Decision', 'id'], axis=1)\n",
    "\n",
    "    drop = ['Host_has_profile_pic', 'Property_type',\n",
    "           'Bathrooms_text', 'Balcony', 'Parking', 'Bedrooms', 'Beds']\n",
    "    \n",
    "    col_dtypes = list(zip(X.dtypes.index, X.dtypes.values))\n",
    "    numeric_cols = [x for x, y in col_dtypes if y.name in ['int64','float64'] and x not in drop]\n",
    "    print(numeric_cols)\n",
    "    categorical_cols = [x for x, y in col_dtypes if y.name not in ['int64','float64'] and x not in drop]\n",
    "    print(categorical_cols)\n",
    "\n",
    "\n",
    "    numeric_pipe = Pipeline([('standard_scaler', StandardScaler()), ('knn_imputer',  \n",
    "                            KNNImputer(n_neighbors=5, weights=\"uniform\"))])\n",
    "\n",
    "    categorical_pipe = Pipeline([('imputer', SimpleImputer(missing_values=np.nan, strategy='constant', fill_value='missing')),\n",
    "                                  ('one_hot', OneHotEncoder())])\n",
    "\n",
    "    all_pipelines = [(\"drop\", 'drop', drop), (\"numeric\", numeric_pipe, numeric_cols), \n",
    "                     (\"categorical\", categorical_pipe, categorical_cols)]\n",
    "    pipeline = ColumnTransformer(all_pipelines, remainder='passthrough')\n",
    "    \n",
    "    X_transformed = pipeline.fit_transform(X)\n",
    "    return pd.DataFrame(X_transformed), labels, pipeline\n",
    "\n",
    "def process_test(df, drop, pipeline):\n",
    "    df['Price'] = df.apply(lambda x: int((x['Price'][1:]).split(\".\")[0].replace(\",\", \"\")), axis=1)\n",
    "    df['Price_per_slot'] = df.apply(lambda x: x['Price'] / x['Accommodates'], axis=1)\n",
    "    df['Large'] = df.apply(lambda x: 1 if x['Accommodates'] >= 8 else 0, axis=1)\n",
    "    df['Missing'] = [int(sum(x) > 0) for x in MissingIndicator().fit_transform(df)]\n",
    "    df['Host_is_superhost'] = df.apply(lambda x: 1 if x['Host_is_superhost'] == 'f' else \n",
    "                                       (0 if x['Host_is_superhost'] == 't' else x['Host_is_superhost']), axis=1)\n",
    "    df['Host_identity_verified'] = df.apply(lambda x: 1 if x['Host_identity_verified'] == 'f' else \n",
    "                                       (0 if x['Host_identity_verified'] == 't' else x['Host_identity_verified']), axis=1)\n",
    "    df['Host_is_superhost'] = df.apply(lambda x: 1 if x['Instant_bookable'] == 'f' else \n",
    "                                       (0 if x['Instant_bookable'] == 't' else x['Instant_bookable']), axis=1)\n",
    "    df['Neighbourhood'] = df.apply(lambda x: str(x['Neighbourhood']), axis=1)\n",
    "    \n",
    "    labels = df['id']\n",
    "    X = df.drop(columns = ['id'], axis=1)\n",
    "    \n",
    "    X_transformed = pipeline.transform(X)\n",
    "    return pd.DataFrame(X_transformed), labels"
   ]
  },
  {
   "cell_type": "code",
   "execution_count": 178,
   "metadata": {},
   "outputs": [
    {
     "name": "stdout",
     "output_type": "stream",
     "text": [
      "(7471, 25)\n",
      "['Host_is_superhost', 'Host_identity_verified', 'Accommodates', 'Essentials', 'Cooking', 'Price', 'Number_of_reviews', 'Review_scores_rating', 'Price_per_slot', 'Large', 'Missing']\n",
      "['Host_response_time', 'Neighbourhood', 'Room_type', 'Instant_bookable', 'Month']\n"
     ]
    }
   ],
   "source": [
    "drop = ['Host_has_profile_pic', 'Property_type', 'Bathrooms_text', \n",
    "        'Balcony', 'Parking', 'Bedrooms', 'Beds']\n",
    "\n",
    "train_transformed, train_labels, pipeline = process_train(train, drop)\n",
    "test_transformed, test_labels = process_test(test, drop, pipeline)"
   ]
  },
  {
   "cell_type": "code",
   "execution_count": 179,
   "metadata": {},
   "outputs": [],
   "source": [
    "train_transformed.to_csv('data/train.csv',index=False)\n",
    "train_labels.to_csv('data/train_labels.csv',index=False)\n",
    "test_transformed.to_csv('data/test.csv',index=False)\n",
    "test_labels.to_csv('data/test_labels.csv',index=False)"
   ]
  },
  {
   "cell_type": "code",
   "execution_count": null,
   "metadata": {},
   "outputs": [],
   "source": []
  }
 ],
 "metadata": {
  "kernelspec": {
   "display_name": "S2L",
   "language": "python",
   "name": "s2l"
  },
  "language_info": {
   "codemirror_mode": {
    "name": "ipython",
    "version": 3
   },
   "file_extension": ".py",
   "mimetype": "text/x-python",
   "name": "python",
   "nbconvert_exporter": "python",
   "pygments_lexer": "ipython3",
   "version": "3.8.6"
  }
 },
 "nbformat": 4,
 "nbformat_minor": 4
}
