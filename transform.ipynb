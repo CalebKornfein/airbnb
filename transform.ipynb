{
 "cells": [
  {
   "cell_type": "code",
   "execution_count": 97,
   "metadata": {},
   "outputs": [],
   "source": [
    "import numpy as np\n",
    "import pandas as pd\n",
    "from sklearn.pipeline import Pipeline\n",
    "from sklearn.preprocessing import OneHotEncoder, StandardScaler\n",
    "from sklearn.compose import ColumnTransformer\n",
    "from sklearn.base import TransformerMixin\n",
    "from sklearn.impute import KNNImputer, SimpleImputer"
   ]
  },
  {
   "cell_type": "code",
   "execution_count": 98,
   "metadata": {},
   "outputs": [],
   "source": [
    "train = pd.read_csv('data/initial_data/train.csv')\n",
    "test = pd.read_csv('data/initial_data/test.csv')\n"
   ]
  },
  {
   "cell_type": "code",
   "execution_count": 99,
   "metadata": {},
   "outputs": [],
   "source": [
    "def process(df, is_train = True):\n",
    "    df['Price'] = df.apply(lambda x: int((x['Price'][1:]).split(\".\")[0].replace(\",\", \"\")), axis=1)\n",
    "    df['Price_ratio'] = df.apply(lambda x: x['Price'] / x['Accommodates'], axis=1)\n",
    "    \n",
    "    if is_train:\n",
    "        labels = df[['id','Decision']]\n",
    "        X = df.drop(columns = ['Decision', 'id'], axis=1)\n",
    "    else:\n",
    "        labels = df['id']\n",
    "        X = df.drop(columns = ['id'], axis=1)\n",
    "\n",
    "    drop = [\"Neighbourhood\", 'Host_has_profile_pic', 'Property_type', \n",
    "           'Bathrooms_text', 'Balcony', 'Parking']\n",
    "\n",
    "    col_dtypes = list(zip(X.dtypes.index, X.dtypes.values))\n",
    "    numeric_cols = [x for x, y in col_dtypes if y.name in ['int64','float64'] and x not in drop]\n",
    "    categorical_cols = [x for x, y in col_dtypes if y.name not in ['int64','float64'] and x not in drop]\n",
    "\n",
    "\n",
    "    numeric_pipe = Pipeline([('standard_scaler', StandardScaler()), ('knn_imputer',  \n",
    "                            KNNImputer(n_neighbors=5, weights=\"uniform\"))])\n",
    "\n",
    "    categorical_pipe = Pipeline([('imputer', SimpleImputer(missing_values=np.nan, strategy='most_frequent')),\n",
    "                                  ('one_hot', OneHotEncoder())])\n",
    "\n",
    "    all_pipelines = [(\"drop\", 'drop', drop), (\"numeric\", numeric_pipe, numeric_cols), \n",
    "                     (\"categorical\", categorical_pipe, categorical_cols)]\n",
    "    pipeline = ColumnTransformer(all_pipelines, remainder='passthrough')\n",
    "    \n",
    "    X_transformed = pipeline.fit_transform(X)\n",
    "    return X_transformed, labels"
   ]
  },
  {
   "cell_type": "code",
   "execution_count": 100,
   "metadata": {},
   "outputs": [],
   "source": [
    "train, train_labels = process(train, is_train=True)\n",
    "test, test_labels = process(test, is_train=False)"
   ]
  },
  {
   "cell_type": "code",
   "execution_count": 105,
   "metadata": {},
   "outputs": [],
   "source": [
    "pd.DataFrame(train).to_csv('data/train.csv', index=False)\n",
    "pd.DataFrame(test).to_csv('data/test.csv', index=False)\n",
    "train_labels.to_csv('data/train_labels.csv', index=False)\n",
    "test_labels.to_csv('data/test_labels.csv', index=False)"
   ]
  },
  {
   "cell_type": "code",
   "execution_count": null,
   "metadata": {},
   "outputs": [],
   "source": []
  }
 ],
 "metadata": {
  "kernelspec": {
   "display_name": "S2L",
   "language": "python",
   "name": "s2l"
  },
  "language_info": {
   "codemirror_mode": {
    "name": "ipython",
    "version": 3
   },
   "file_extension": ".py",
   "mimetype": "text/x-python",
   "name": "python",
   "nbconvert_exporter": "python",
   "pygments_lexer": "ipython3",
   "version": "3.8.6"
  }
 },
 "nbformat": 4,
 "nbformat_minor": 4
}
